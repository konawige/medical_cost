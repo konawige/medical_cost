{
 "cells": [
  {
   "cell_type": "markdown",
   "id": "fe3ee878",
   "metadata": {},
   "source": [
    "## DATA DISCOVERY AND DATA QUALITY"
   ]
  },
  {
   "cell_type": "code",
   "execution_count": null,
   "id": "61c48eee-56ee-4da1-b752-b66f4d20f6c9",
   "metadata": {
    "pycharm": {
     "is_executing": true
    }
   },
   "outputs": [],
   "source": [
    "import pandas as pd\n",
    "\n",
    "insurance_initial = pd.read_csv('insurance.csv')\n",
    "insurance = insurance_initial.copy()\n",
    "insurance.head()"
   ]
  },
  {
   "cell_type": "code",
   "execution_count": null,
   "id": "b94b424d",
   "metadata": {},
   "outputs": [],
   "source": [
    "insurance.info()"
   ]
  },
  {
   "cell_type": "code",
   "execution_count": null,
   "id": "619aa814",
   "metadata": {},
   "outputs": [],
   "source": [
    "insurance.describe()"
   ]
  },
  {
   "cell_type": "code",
   "execution_count": null,
   "id": "d4ffb93d",
   "metadata": {},
   "outputs": [],
   "source": [
    "import seaborn as sns\n",
    "import matplotlib.pyplot as plt\n",
    "\n",
    "# Create subplots\n",
    "fig, axes = plt.subplots(2, 2, figsize=(12, 8))\n",
    "\n",
    "# Plot boxplot for 'age'\n",
    "sns.boxplot(ax=axes[0, 0], data=insurance, y='age')\n",
    "axes[0, 0].set_title('Age')\n",
    "\n",
    "# Plot boxplot for 'bmi'\n",
    "sns.boxplot(ax=axes[0, 1], data=insurance, y='bmi')\n",
    "axes[0, 1].set_title('BMI')\n",
    "\n",
    "# Plot boxplot for 'children'\n",
    "sns.boxplot(ax=axes[1, 0], data=insurance, y='children')\n",
    "axes[1, 0].set_title('Children')\n",
    "\n",
    "# Plot boxplot for 'charges'\n",
    "sns.boxplot(ax=axes[1, 1], data=insurance, y='charges')\n",
    "axes[1, 1].set_title('Charges')\n",
    "\n",
    "# Adjust spacing between subplots\n",
    "plt.tight_layout()\n",
    "\n",
    "# Show the plot\n",
    "plt.show()"
   ]
  },
  {
   "cell_type": "code",
   "execution_count": null,
   "id": "5e89b8f9",
   "metadata": {},
   "outputs": [],
   "source": [
    "insurance['region'].value_counts()"
   ]
  },
  {
   "cell_type": "code",
   "execution_count": null,
   "id": "c8aee263",
   "metadata": {},
   "outputs": [],
   "source": [
    "insurance['smoker'].value_counts()"
   ]
  },
  {
   "cell_type": "code",
   "execution_count": null,
   "id": "d0ffc57d",
   "metadata": {},
   "outputs": [],
   "source": [
    "insurance['sex'].value_counts()"
   ]
  },
  {
   "cell_type": "code",
   "execution_count": null,
   "id": "89319b4f",
   "metadata": {},
   "outputs": [],
   "source": [
    "import matplotlib.pyplot as plt\n",
    "\n",
    "insurance.hist(bins=50, figsize=(12, 8))\n",
    "plt.show()"
   ]
  },
  {
   "cell_type": "code",
   "execution_count": null,
   "id": "705f3b36",
   "metadata": {},
   "outputs": [],
   "source": [
    "import seaborn as sns\n",
    "sns.pairplot(insurance[['age', 'bmi', 'children', 'charges']])\n",
    "plt.show()"
   ]
  },
  {
   "cell_type": "markdown",
   "id": "3d168e1b",
   "metadata": {},
   "source": [
    "### TRAINING AND TEST SET"
   ]
  },
  {
   "cell_type": "code",
   "execution_count": null,
   "id": "97ac9692",
   "metadata": {},
   "outputs": [],
   "source": [
    "from sklearn.model_selection import train_test_split\n",
    "from sklearn.preprocessing import OneHotEncoder, MinMaxScaler\n",
    "from sklearn.preprocessing import StandardScaler\n",
    "\n"
   ]
  },
  {
   "cell_type": "code",
   "execution_count": null,
   "id": "5a2bc34d",
   "metadata": {},
   "outputs": [],
   "source": [
    "\n",
    "strat_train_set, strat_test_set = train_test_split(\n",
    "    insurance, test_size=0.3, stratify=pd.cut(insurance['bmi'],bins=4), random_state=42)\n",
    "\n",
    "insurance_training  = strat_train_set.drop(\"charges\", axis=1)\n",
    "charges_training = strat_train_set[\"charges\"].copy()"
   ]
  },
  {
   "cell_type": "code",
   "execution_count": null,
   "id": "069ef782",
   "metadata": {},
   "outputs": [],
   "source": [
    "insurance['bmi'].hist()"
   ]
  },
  {
   "cell_type": "code",
   "execution_count": null,
   "id": "c97dea6c",
   "metadata": {},
   "outputs": [],
   "source": [
    "insurance_training['bmi'].hist()"
   ]
  },
  {
   "cell_type": "code",
   "execution_count": null,
   "id": "2331d59b",
   "metadata": {},
   "outputs": [],
   "source": [
    "test_bmi = strat_test_set['bmi'].copy().hist()"
   ]
  },
  {
   "cell_type": "markdown",
   "id": "389d92c3",
   "metadata": {},
   "source": [
    "use one hot encoder for region\n"
   ]
  },
  {
   "cell_type": "code",
   "execution_count": null,
   "id": "123e2d2d",
   "metadata": {},
   "outputs": [],
   "source": [
    "region_encoder = OneHotEncoder(drop='first')\n",
    "binary_encoder = OneHotEncoder(drop='if_binary')\n",
    "res_smoker = binary_encoder.fit_transform(insurance['smoker'].values.reshape(-1,1))\n",
    "res_smoker.toarray()\n"
   ]
  },
  {
   "cell_type": "markdown",
   "id": "59e58476",
   "metadata": {},
   "source": [
    "Standardize numerical values"
   ]
  },
  {
   "cell_type": "code",
   "execution_count": null,
   "id": "7191d02e",
   "metadata": {},
   "outputs": [],
   "source": [
    "ins_num = insurance_training[['age', 'bmi', 'children']]\n",
    "std_scaler = StandardScaler()\n",
    "ins_num_std_scaled = std_scaler.fit_transform(ins_num)\n",
    "ins_num_std_scaled"
   ]
  },
  {
   "cell_type": "code",
   "execution_count": null,
   "id": "5bdb18fd",
   "metadata": {},
   "outputs": [],
   "source": [
    "from sklearn.pipeline import Pipeline, make_pipeline\n",
    "\n",
    "num_pipeline = Pipeline([\n",
    "    (\"standardize\", StandardScaler()),\n",
    "])\n",
    "cat_pipeline = make_pipeline(\n",
    "    OneHotEncoder(handle_unknown=\"ignore\"))"
   ]
  },
  {
   "cell_type": "code",
   "execution_count": null,
   "id": "2fedf968",
   "metadata": {},
   "outputs": [],
   "source": [
    "from sklearn.compose import ColumnTransformer\n",
    "\n",
    "preprocessing = ColumnTransformer([\n",
    "    (\"num\", num_pipeline, ['age', 'bmi', 'children']),\n",
    "    (\"reg\", region_encoder, ['region']),\n",
    "    (\"bin\", binary_encoder, ['sex','smoker']),\n",
    "])"
   ]
  },
  {
   "cell_type": "code",
   "execution_count": null,
   "id": "ad14ddc5",
   "metadata": {},
   "outputs": [],
   "source": [
    "ins_prepared = preprocessing.fit_transform(insurance_training, charges_training)\n",
    "ins_prepared"
   ]
  },
  {
   "cell_type": "code",
   "execution_count": null,
   "id": "59ce7424",
   "metadata": {},
   "outputs": [],
   "source": [
    "preprocessing.get_feature_names_out()"
   ]
  },
  {
   "cell_type": "code",
   "execution_count": null,
   "id": "4ef26421",
   "metadata": {},
   "outputs": [],
   "source": [
    "from sklearn.linear_model import LinearRegression\n",
    "from sklearn.metrics import mean_squared_error\n",
    "\n",
    "lin_reg = make_pipeline(preprocessing, LinearRegression())\n",
    "lin_reg.fit(insurance_training, charges_training)"
   ]
  },
  {
   "cell_type": "code",
   "execution_count": null,
   "id": "72d648f9",
   "metadata": {},
   "outputs": [],
   "source": [
    "ins_predictions = lin_reg.predict(insurance_training)\n",
    "lin_rmse = mean_squared_error(charges_training, ins_predictions, squared=False)\n",
    "lin_rmse\n"
   ]
  },
  {
   "cell_type": "code",
   "execution_count": null,
   "id": "612f4fde",
   "metadata": {},
   "outputs": [],
   "source": [
    "print(lin_reg.named_steps['linearregression'].coef_)\n",
    "print(lin_reg.named_steps['linearregression'].intercept_)\n"
   ]
  },
  {
   "cell_type": "code",
   "execution_count": null,
   "id": "f743766d",
   "metadata": {},
   "outputs": [],
   "source": [
    "import statsmodels.api as sm\n",
    "\n",
    "# Fit the linear regression model\n",
    "X2 = sm.add_constant(preprocessing.fit_transform(insurance_training, charges_training))\n",
    "model = sm.OLS(charges_training, X2).fit()\n",
    "\n",
    "# Display the p-values and coefficients\n",
    "model.use_t = True\n",
    "print(\"P-values:\")\n",
    "print(model.pvalues)\n",
    "print(\"\\nCoefficients:\")\n",
    "print(model.summary())\n"
   ]
  },
  {
   "cell_type": "code",
   "execution_count": null,
   "id": "e6c7a04b",
   "metadata": {},
   "outputs": [],
   "source": [
    "from sklearn.metrics import r2_score, mean_absolute_error, mean_squared_error\n",
    "\n",
    "r2 = r2_score(charges_training, ins_predictions)\n",
    "mae = mean_absolute_error(charges_training, ins_predictions)\n",
    "rmse = mean_squared_error(charges_training, ins_predictions, squared=False)\n",
    "\n",
    "print(f\"R2 Score: {r2}, Mean Absolute Error: {mae}, Root Mean Squared Error: {rmse}\")"
   ]
  },
  {
   "cell_type": "code",
   "execution_count": null,
   "id": "b9173d3b",
   "metadata": {},
   "outputs": [],
   "source": [
    "# standardize the prevision\n",
    "ins_predictions_std = StandardScaler().fit_transform(ins_predictions.reshape(-1, 1))\n",
    "# standardize the residus\n",
    "residus = charges_training - ins_predictions\n",
    "residus_std = StandardScaler().fit_transform(residus.values.reshape(-1, 1))\n",
    "residus_std\n",
    "import seaborn as sns\n",
    "sns.scatterplot(x=ins_predictions_std.reshape(-1),y=residus_std.reshape(-1))\n",
    "plt.xlabel('Fitted Values')\n",
    "plt.ylabel('Error')\n",
    "plt.axhline(y=0,color='red')\n",
    "plt.axhline(y=3,color='orange')\n",
    "plt.show()"
   ]
  },
  {
   "cell_type": "code",
   "execution_count": null,
   "id": "b1a3b346",
   "metadata": {},
   "outputs": [],
   "source": [
    "# validate the model on the test set\n",
    "ins_test = strat_test_set.drop(\"charges\", axis=1)\n",
    "charges_test = strat_test_set[\"charges\"].copy()\n",
    "ins_predictions_test = lin_reg.predict(ins_test)\n",
    "# Compute RMSE\n",
    "rmse_test = mean_squared_error(charges_test , ins_predictions_test, squared=False)\n",
    "rmse_test"
   ]
  },
  {
   "cell_type": "markdown",
   "id": "7f413e3b",
   "metadata": {},
   "source": [
    "Lets try a Decision Tree"
   ]
  },
  {
   "cell_type": "code",
   "execution_count": null,
   "id": "ee61b802",
   "metadata": {},
   "outputs": [],
   "source": [
    "from sklearn.tree import DecisionTreeRegressor\n",
    "\n",
    "tree_reg = make_pipeline(preprocessing, DecisionTreeRegressor(random_state=42, min_samples_split=20, max_depth=5))\n",
    "tree_reg.fit(insurance_training, charges_training)"
   ]
  },
  {
   "cell_type": "code",
   "execution_count": null,
   "id": "616dba5d",
   "metadata": {},
   "outputs": [],
   "source": [
    "ins_predictions_tree = tree_reg.predict(insurance_training)\n",
    "tree_rmse = mean_squared_error(charges_training, ins_predictions_tree, squared=False)\n",
    "tree_rmse"
   ]
  },
  {
   "cell_type": "code",
   "execution_count": null,
   "id": "702b055d",
   "metadata": {},
   "outputs": [],
   "source": [
    "from sklearn import tree\n",
    "fig, ax = plt.subplots(figsize=(12, 12))\n",
    "tree.plot_tree(tree_reg.named_steps['decisiontreeregressor'], ax=ax, node_ids=True, filled=True)\n",
    "plt.show()"
   ]
  },
  {
   "cell_type": "code",
   "execution_count": null,
   "id": "034ba929",
   "metadata": {},
   "outputs": [],
   "source": [
    "from sklearn.ensemble import RandomForestRegressor\n",
    "from sklearn.model_selection import cross_val_score\n",
    "\n",
    "forest_reg = make_pipeline(preprocessing, RandomForestRegressor(random_state=42,max_depth=5,min_samples_split=20))\n",
    "forest_rmses = -cross_val_score(forest_reg, insurance_training, charges_training, scoring=\"neg_root_mean_squared_error\", cv=10)\n",
    "pd.Series(forest_rmses).describe()"
   ]
  },
  {
   "cell_type": "code",
   "execution_count": null,
   "id": "6ea04abc",
   "metadata": {},
   "outputs": [],
   "source": [
    "\n",
    "forest_reg.fit(insurance_training, charges_training)\n",
    "ins_predictions_forest = forest_reg.predict(insurance_training)\n",
    "r2_score(charges_training, ins_predictions_forest)"
   ]
  },
  {
   "cell_type": "code",
   "execution_count": null,
   "id": "732a1412",
   "metadata": {},
   "outputs": [],
   "source": [
    "from sklearn.model_selection import RandomizedSearchCV\n",
    "from scipy.stats import randint\n",
    "\n",
    "full_pipeline = Pipeline([\n",
    "    (\"preprocessing\", preprocessing),\n",
    "    (\"random_forest\", RandomForestRegressor(random_state=42,max_depth=5,min_samples_split=20)),\n",
    "])\n",
    "\n",
    "param_distribs = {'random_forest__max_features': randint(low=2, high=20)}\n",
    "\n",
    "rnd_search = RandomizedSearchCV(\n",
    "    full_pipeline, param_distributions=param_distribs, n_iter=10, cv=5,\n",
    "    scoring='neg_root_mean_squared_error', random_state=42)\n",
    "\n",
    "rnd_search.fit(insurance_training, charges_training)\n"
   ]
  },
  {
   "cell_type": "code",
   "execution_count": null,
   "id": "fa1bffc7",
   "metadata": {},
   "outputs": [],
   "source": [
    "final_model = rnd_search.best_estimator_ \n",
    "feature_importances = final_model[\"random_forest\"].feature_importances_\n",
    "sorted(zip(feature_importances,final_model[\"preprocessing\"].get_feature_names_out()),reverse=True)\n"
   ]
  },
  {
   "cell_type": "code",
   "execution_count": null,
   "id": "ede9efbb",
   "metadata": {},
   "outputs": [],
   "source": [
    "ins_predictions_final = final_model.predict(insurance_training)\n",
    "r2_score(charges_training, ins_predictions_final)\n",
    "\n"
   ]
  },
  {
   "cell_type": "code",
   "execution_count": null,
   "id": "2d04fa52",
   "metadata": {},
   "outputs": [],
   "source": [
    "# Compute RMSE\n",
    "rmse_final = mean_squared_error(charges_training, ins_predictions_final, squared=False)\n",
    "rmse_final"
   ]
  },
  {
   "cell_type": "code",
   "execution_count": null,
   "id": "b07c442b",
   "metadata": {},
   "outputs": [],
   "source": [
    "# standardize the prevision\n",
    "ins_predictions_final_std = StandardScaler().fit_transform(ins_predictions_final.reshape(-1, 1))\n",
    "# standardtze the residus\n",
    "residus = charges_training - ins_predictions_final\n",
    "residus_std = StandardScaler().fit_transform(residus.values.reshape(-1, 1))\n",
    "residus_std\n",
    "import seaborn as sns\n",
    "sns.scatterplot(x=ins_predictions_final_std.reshape(-1),y=residus_std.reshape(-1))\n",
    "plt.xlabel('Fitted Values')\n",
    "plt.ylabel('Error')\n",
    "plt.axhline(y=0,color='red')\n",
    "plt.axhline(y=3,color='orange')\n",
    "plt.show()\n"
   ]
  },
  {
   "cell_type": "code",
   "execution_count": null,
   "id": "faad4781",
   "metadata": {},
   "outputs": [],
   "source": [
    "# validate the model on the test set\n",
    "ins_test = strat_test_set.drop(\"charges\", axis=1)\n",
    "charges_test = strat_test_set[\"charges\"].copy()\n",
    "ins_predictions_test = final_model.predict(ins_test)\n",
    "# Compute RMSE\n",
    "rmse_test = mean_squared_error(charges_test , ins_predictions_test, squared=False)\n",
    "rmse_test"
   ]
  },
  {
   "cell_type": "code",
   "execution_count": null,
   "id": "bd70112f",
   "metadata": {},
   "outputs": [],
   "source": [
    "print(final_model)"
   ]
  },
  {
   "cell_type": "code",
   "execution_count": null,
   "id": "b289df30",
   "metadata": {},
   "outputs": [],
   "source": [
    "import joblib\n",
    "\n",
    "joblib.dump(final_model, \"my_insurance_ml.pkl\")"
   ]
  },
  {
   "cell_type": "code",
   "execution_count": null,
   "id": "47b511bd",
   "metadata": {},
   "outputs": [],
   "source": [
    "import pandas as pd\n",
    "# 'num__age', 'num__bmi', 'num__children', 'reg__region_northwest','reg__region_southeast', 'reg__region_southwest', 'bin__sex_male','bin__smoker_yes'\n",
    "\n",
    "data = {\n",
    "    'age': [25, 30, 35],\n",
    "    'bmi': [20, 22, 35],\n",
    "    'children': [0,3,1],\n",
    "    'region': ['northwest', 'southeast', 'southwest'],\n",
    "    'sex': ['male', 'female', 'female'],\n",
    "    'smoker': ['no', 'yes', 'yes'],\n",
    "    \n",
    "    \n",
    "}\n",
    "\n",
    "df = pd.DataFrame(data)\n",
    "final_model_reloaded = joblib.load(\"my_insurance_ml.pkl\")\n",
    "predictions = final_model_reloaded.predict(df)\n",
    "predictions"
   ]
  },
  {
   "cell_type": "code",
   "execution_count": null,
   "id": "66c2a8ce",
   "metadata": {},
   "outputs": [],
   "source": [
    "#!pip install graphviz"
   ]
  },
  {
   "cell_type": "code",
   "execution_count": null,
   "id": "57421eae",
   "metadata": {},
   "outputs": [],
   "source": [
    "from sklearn.tree import export_graphviz\n",
    "import graphviz\n",
    "import os\n",
    "dot_data = export_graphviz(final_model.named_steps['random_forest'].estimators_[0], out_file=None, \n",
    "                           feature_names=final_model.named_steps['preprocessing'].get_feature_names_out(),\n",
    "                           filled=True)\n",
    "graph = graphviz.Source(dot_data)\n",
    "os.environ[\"PATH\"] += os.pathsep + '/usr/local/bin'\n",
    "graph.render(\"random_forest_tree.dot\")"
   ]
  },
  {
   "cell_type": "code",
   "execution_count": null,
   "id": "44c8d740",
   "metadata": {},
   "outputs": [],
   "source": [
    "#!pip install yellowbrick\n",
    "from yellowbrick.model_selection import FeatureImportances\n",
    "\n",
    "\n",
    "\n",
    "# Use Yellowbrick to visualize feature importances\n",
    "viz = FeatureImportances(final_model.named_steps['random_forest'], labels=final_model.named_steps['preprocessing'].get_feature_names_out())\n",
    "viz.fit(preprocessing, charges_training)\n",
    "viz.show()"
   ]
  }
 ],
 "metadata": {
  "kernelspec": {
   "display_name": "ml_hotel_kernel",
   "language": "python",
   "name": "ml_hotel_kernel"
  },
  "language_info": {
   "codemirror_mode": {
    "name": "ipython",
    "version": 3
   },
   "file_extension": ".py",
   "mimetype": "text/x-python",
   "name": "python",
   "nbconvert_exporter": "python",
   "pygments_lexer": "ipython3",
   "version": "3.11.5"
  }
 },
 "nbformat": 4,
 "nbformat_minor": 5
}
